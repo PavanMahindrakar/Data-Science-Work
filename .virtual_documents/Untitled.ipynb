name = "Pavan"


name


name[4:5]


name.upper()


name.endswith("an")


name.endswith("hd")


name.lower()


name.count("a")


name.count("n")


len(name)


s = "Hello World"
s


new = s.replace("World" , "Python")


new


new[0:7]


new[1:11]


new[1:-1]


"-".join(["2025", "04", "14"])  # '2025-04-14'


"python".find("th")


"hello world".split()  


name = "Alice"
age = 30
f"Hello, {name}. You are {age} years old."

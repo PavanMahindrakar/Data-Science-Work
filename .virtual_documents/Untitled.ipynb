a = 5
b = 10


a + b


namee = "Pavan"


type(namee)


type(a)


x = "Pavan"


Y = "Ravan"


x + Y


 p = "Pavan"


q = "23"


p + q


m = "252"
n = "111"


m + n


int(m) + int(n)




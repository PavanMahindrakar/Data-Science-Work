{
 "cells": [
  {
   "cell_type": "code",
   "execution_count": 1,
   "id": "09997d08-9a77-47fd-a59f-662b9d67e5ff",
   "metadata": {},
   "outputs": [],
   "source": [
    "name = \"Pavan\""
   ]
  },
  {
   "cell_type": "code",
   "execution_count": 2,
   "id": "24789aba-d492-4e42-92f9-e94c07dd016d",
   "metadata": {},
   "outputs": [
    {
     "data": {
      "text/plain": [
       "'Pavan'"
      ]
     },
     "execution_count": 2,
     "metadata": {},
     "output_type": "execute_result"
    }
   ],
   "source": [
    "name"
   ]
  },
  {
   "cell_type": "code",
   "execution_count": 5,
   "id": "4ee83863-383e-413e-8e45-0f9f94342595",
   "metadata": {},
   "outputs": [
    {
     "data": {
      "text/plain": [
       "'n'"
      ]
     },
     "execution_count": 5,
     "metadata": {},
     "output_type": "execute_result"
    }
   ],
   "source": [
    "name[4:5]"
   ]
  },
  {
   "cell_type": "code",
   "execution_count": 6,
   "id": "df69b32e-a162-4048-b762-1e2d22bd7b10",
   "metadata": {},
   "outputs": [
    {
     "data": {
      "text/plain": [
       "'PAVAN'"
      ]
     },
     "execution_count": 6,
     "metadata": {},
     "output_type": "execute_result"
    }
   ],
   "source": [
    "name.upper()"
   ]
  },
  {
   "cell_type": "code",
   "execution_count": 7,
   "id": "15e6e2ec-05b7-4512-b855-697bff023bbd",
   "metadata": {},
   "outputs": [
    {
     "data": {
      "text/plain": [
       "True"
      ]
     },
     "execution_count": 7,
     "metadata": {},
     "output_type": "execute_result"
    }
   ],
   "source": [
    "name.endswith(\"an\")"
   ]
  },
  {
   "cell_type": "code",
   "execution_count": 8,
   "id": "b1a0151f-5ec2-4ce4-af77-357ae2365fbc",
   "metadata": {},
   "outputs": [
    {
     "data": {
      "text/plain": [
       "False"
      ]
     },
     "execution_count": 8,
     "metadata": {},
     "output_type": "execute_result"
    }
   ],
   "source": [
    "name.endswith(\"hd\")"
   ]
  },
  {
   "cell_type": "code",
   "execution_count": 9,
   "id": "f330d3f9-a36a-4f61-9f56-8ffcadef41ad",
   "metadata": {},
   "outputs": [
    {
     "data": {
      "text/plain": [
       "'pavan'"
      ]
     },
     "execution_count": 9,
     "metadata": {},
     "output_type": "execute_result"
    }
   ],
   "source": [
    "name.lower()"
   ]
  },
  {
   "cell_type": "code",
   "execution_count": 10,
   "id": "ddc86ef1-3e48-4674-83e9-014066c29dbe",
   "metadata": {},
   "outputs": [
    {
     "data": {
      "text/plain": [
       "2"
      ]
     },
     "execution_count": 10,
     "metadata": {},
     "output_type": "execute_result"
    }
   ],
   "source": [
    "name.count(\"a\")"
   ]
  },
  {
   "cell_type": "code",
   "execution_count": 11,
   "id": "e6c76b3d-589e-4228-8516-d6d9a0944391",
   "metadata": {},
   "outputs": [
    {
     "data": {
      "text/plain": [
       "1"
      ]
     },
     "execution_count": 11,
     "metadata": {},
     "output_type": "execute_result"
    }
   ],
   "source": [
    "name.count(\"n\")"
   ]
  },
  {
   "cell_type": "code",
   "execution_count": 12,
   "id": "a507a71a-ca30-4360-a188-dd29191cc07c",
   "metadata": {},
   "outputs": [
    {
     "data": {
      "text/plain": [
       "5"
      ]
     },
     "execution_count": 12,
     "metadata": {},
     "output_type": "execute_result"
    }
   ],
   "source": [
    "len(name)"
   ]
  },
  {
   "cell_type": "code",
   "execution_count": 15,
   "id": "9d7b821d-7bb8-46d8-9bbe-d2056eb13f12",
   "metadata": {},
   "outputs": [
    {
     "data": {
      "text/plain": [
       "'Hello World'"
      ]
     },
     "execution_count": 15,
     "metadata": {},
     "output_type": "execute_result"
    }
   ],
   "source": [
    "s = \"Hello World\"\n",
    "s"
   ]
  },
  {
   "cell_type": "code",
   "execution_count": 18,
   "id": "5804409b-8733-4312-9661-b97900cd9d80",
   "metadata": {},
   "outputs": [],
   "source": [
    "new = s.replace(\"World\" , \"Python\")"
   ]
  },
  {
   "cell_type": "code",
   "execution_count": 19,
   "id": "e49b4e7d-8113-401d-82cd-8837c0c4e927",
   "metadata": {},
   "outputs": [
    {
     "data": {
      "text/plain": [
       "'Hello Python'"
      ]
     },
     "execution_count": 19,
     "metadata": {},
     "output_type": "execute_result"
    }
   ],
   "source": [
    "new"
   ]
  },
  {
   "cell_type": "code",
   "execution_count": 20,
   "id": "d30ae05d-2e41-4c9a-a248-ba0127b8c584",
   "metadata": {},
   "outputs": [
    {
     "data": {
      "text/plain": [
       "'Hello P'"
      ]
     },
     "execution_count": 20,
     "metadata": {},
     "output_type": "execute_result"
    }
   ],
   "source": [
    "new[0:7]"
   ]
  },
  {
   "cell_type": "code",
   "execution_count": 24,
   "id": "a0d46250-5df4-43b0-a21f-e4354493d193",
   "metadata": {},
   "outputs": [
    {
     "data": {
      "text/plain": [
       "'ello Pytho'"
      ]
     },
     "execution_count": 24,
     "metadata": {},
     "output_type": "execute_result"
    }
   ],
   "source": [
    "new[1:11]"
   ]
  },
  {
   "cell_type": "code",
   "execution_count": 25,
   "id": "7d88eee2-c807-492f-8ef5-6627e5d2e040",
   "metadata": {},
   "outputs": [
    {
     "data": {
      "text/plain": [
       "'ello Pytho'"
      ]
     },
     "execution_count": 25,
     "metadata": {},
     "output_type": "execute_result"
    }
   ],
   "source": [
    "new[1:-1]"
   ]
  },
  {
   "cell_type": "code",
   "execution_count": 26,
   "id": "29beb84b-e069-4b5f-a0d6-8ff5ae6da78a",
   "metadata": {},
   "outputs": [
    {
     "data": {
      "text/plain": [
       "'2025-04-14'"
      ]
     },
     "execution_count": 26,
     "metadata": {},
     "output_type": "execute_result"
    }
   ],
   "source": [
    "\"-\".join([\"2025\", \"04\", \"14\"])  # '2025-04-14'"
   ]
  },
  {
   "cell_type": "code",
   "execution_count": null,
   "id": "abb7c7a2-a5d7-423c-85a6-19d6e0b1f72b",
   "metadata": {},
   "outputs": [],
   "source": []
  }
 ],
 "metadata": {
  "kernelspec": {
   "display_name": "Python 3 (ipykernel)",
   "language": "python",
   "name": "python3"
  },
  "language_info": {
   "codemirror_mode": {
    "name": "ipython",
    "version": 3
   },
   "file_extension": ".py",
   "mimetype": "text/x-python",
   "name": "python",
   "nbconvert_exporter": "python",
   "pygments_lexer": "ipython3",
   "version": "3.13.5"
  }
 },
 "nbformat": 4,
 "nbformat_minor": 5
}

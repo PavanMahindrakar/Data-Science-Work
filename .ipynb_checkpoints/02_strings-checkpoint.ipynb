{
 "cells": [
  {
   "cell_type": "code",
   "execution_count": 1,
   "id": "09997d08-9a77-47fd-a59f-662b9d67e5ff",
   "metadata": {},
   "outputs": [],
   "source": [
    "name = \"Pavan\""
   ]
  },
  {
   "cell_type": "code",
   "execution_count": 2,
   "id": "24789aba-d492-4e42-92f9-e94c07dd016d",
   "metadata": {},
   "outputs": [
    {
     "data": {
      "text/plain": [
       "'Pavan'"
      ]
     },
     "execution_count": 2,
     "metadata": {},
     "output_type": "execute_result"
    }
   ],
   "source": [
    "name"
   ]
  },
  {
   "cell_type": "code",
   "execution_count": 5,
   "id": "4ee83863-383e-413e-8e45-0f9f94342595",
   "metadata": {},
   "outputs": [
    {
     "data": {
      "text/plain": [
       "'n'"
      ]
     },
     "execution_count": 5,
     "metadata": {},
     "output_type": "execute_result"
    }
   ],
   "source": [
    "name[4:5]"
   ]
  },
  {
   "cell_type": "code",
   "execution_count": null,
   "id": "df69b32e-a162-4048-b762-1e2d22bd7b10",
   "metadata": {},
   "outputs": [],
   "source": []
  }
 ],
 "metadata": {
  "kernelspec": {
   "display_name": "Python 3 (ipykernel)",
   "language": "python",
   "name": "python3"
  },
  "language_info": {
   "codemirror_mode": {
    "name": "ipython",
    "version": 3
   },
   "file_extension": ".py",
   "mimetype": "text/x-python",
   "name": "python",
   "nbconvert_exporter": "python",
   "pygments_lexer": "ipython3",
   "version": "3.13.5"
  }
 },
 "nbformat": 4,
 "nbformat_minor": 5
}

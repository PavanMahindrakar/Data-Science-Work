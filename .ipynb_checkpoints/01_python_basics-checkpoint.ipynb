{
 "cells": [
  {
   "cell_type": "code",
   "execution_count": 1,
   "id": "20990e0b-bcbd-44b8-9d8d-943c34c9d0d1",
   "metadata": {},
   "outputs": [],
   "source": [
    "a = 5\n",
    "b = 10"
   ]
  },
  {
   "cell_type": "code",
   "execution_count": 2,
   "id": "c5ac1036-cb2b-4a48-950a-a43880984189",
   "metadata": {},
   "outputs": [
    {
     "data": {
      "text/plain": [
       "15"
      ]
     },
     "execution_count": 2,
     "metadata": {},
     "output_type": "execute_result"
    }
   ],
   "source": [
    "a + b"
   ]
  },
  {
   "cell_type": "code",
   "execution_count": 4,
   "id": "54c4f400-3e90-443c-972b-5dce81a89e1e",
   "metadata": {},
   "outputs": [],
   "source": [
    "namee = \"Pavan\""
   ]
  },
  {
   "cell_type": "code",
   "execution_count": 5,
   "id": "fa12a2a1-0355-4b06-a712-9b72a569f67b",
   "metadata": {},
   "outputs": [
    {
     "data": {
      "text/plain": [
       "str"
      ]
     },
     "execution_count": 5,
     "metadata": {},
     "output_type": "execute_result"
    }
   ],
   "source": [
    "type(namee)"
   ]
  },
  {
   "cell_type": "code",
   "execution_count": 6,
   "id": "d9ba03f7-5258-471e-9901-0cddb4b67642",
   "metadata": {},
   "outputs": [
    {
     "data": {
      "text/plain": [
       "int"
      ]
     },
     "execution_count": 6,
     "metadata": {},
     "output_type": "execute_result"
    }
   ],
   "source": [
    "type(a)"
   ]
  },
  {
   "cell_type": "code",
   "execution_count": 7,
   "id": "86549309-8f00-4760-922c-9fbc08143c16",
   "metadata": {},
   "outputs": [],
   "source": [
    "x = \"Pavan\""
   ]
  },
  {
   "cell_type": "code",
   "execution_count": 8,
   "id": "de860c51-1aee-4853-b15a-5daf75a00aea",
   "metadata": {},
   "outputs": [],
   "source": [
    "Y = \"Ravan\""
   ]
  },
  {
   "cell_type": "code",
   "execution_count": 9,
   "id": "f03ff69b-1203-445f-95fb-bd4649087c20",
   "metadata": {},
   "outputs": [
    {
     "data": {
      "text/plain": [
       "'PavanRavan'"
      ]
     },
     "execution_count": 9,
     "metadata": {},
     "output_type": "execute_result"
    }
   ],
   "source": [
    "x + Y"
   ]
  },
  {
   "cell_type": "code",
   "execution_count": 10,
   "id": "aa09256f-c3fa-4805-8a3d-6c860cecd12a",
   "metadata": {},
   "outputs": [],
   "source": [
    " p = \"Pavan\""
   ]
  },
  {
   "cell_type": "code",
   "execution_count": 13,
   "id": "ba0fd3cb-db96-4502-9cee-ca948f3ad4e0",
   "metadata": {},
   "outputs": [],
   "source": [
    "q = \"23\""
   ]
  },
  {
   "cell_type": "code",
   "execution_count": 14,
   "id": "c305152d-e455-4154-ac75-da2363caeb22",
   "metadata": {},
   "outputs": [
    {
     "data": {
      "text/plain": [
       "'Pavan23'"
      ]
     },
     "execution_count": 14,
     "metadata": {},
     "output_type": "execute_result"
    }
   ],
   "source": [
    "p + q"
   ]
  },
  {
   "cell_type": "code",
   "execution_count": 15,
   "id": "1af9a3a3-ebf5-4672-8261-421ae75edbba",
   "metadata": {},
   "outputs": [],
   "source": [
    "m = \"252\"\n",
    "n = \"111\""
   ]
  },
  {
   "cell_type": "code",
   "execution_count": 16,
   "id": "33476aa4-4a8b-43b6-9cac-bf6b1850239e",
   "metadata": {},
   "outputs": [
    {
     "data": {
      "text/plain": [
       "'252111'"
      ]
     },
     "execution_count": 16,
     "metadata": {},
     "output_type": "execute_result"
    }
   ],
   "source": [
    "m + n"
   ]
  },
  {
   "cell_type": "code",
   "execution_count": 17,
   "id": "ee861eab-a679-4a94-becc-e10daed0da6e",
   "metadata": {},
   "outputs": [
    {
     "data": {
      "text/plain": [
       "363"
      ]
     },
     "execution_count": 17,
     "metadata": {},
     "output_type": "execute_result"
    }
   ],
   "source": [
    "int(m) + int(n)"
   ]
  },
  {
   "cell_type": "code",
   "execution_count": null,
   "id": "c082af37-4c2d-42c7-b16a-902455d02931",
   "metadata": {},
   "outputs": [],
   "source": []
  }
 ],
 "metadata": {
  "kernelspec": {
   "display_name": "Python 3 (ipykernel)",
   "language": "python",
   "name": "python3"
  },
  "language_info": {
   "codemirror_mode": {
    "name": "ipython",
    "version": 3
   },
   "file_extension": ".py",
   "mimetype": "text/x-python",
   "name": "python",
   "nbconvert_exporter": "python",
   "pygments_lexer": "ipython3",
   "version": "3.13.5"
  }
 },
 "nbformat": 4,
 "nbformat_minor": 5
}
